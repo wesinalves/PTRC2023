{
 "cells": [
  {
   "cell_type": "markdown",
   "id": "e5c61086-a993-4838-849b-f04a99ca257e",
   "metadata": {
    "jp-MarkdownHeadingCollapsed": true
   },
   "source": [
    "# Tarefa de classificação usando RNN"
   ]
  },
  {
   "cell_type": "code",
   "execution_count": 35,
   "id": "71bc8a28-e5c4-4229-9fd5-28aa6974d4b1",
   "metadata": {},
   "outputs": [],
   "source": [
    "# import libraries"
   ]
  },
  {
   "cell_type": "code",
   "execution_count": 7,
   "id": "c1478d14-6159-49b3-aec2-33a23730a6b4",
   "metadata": {},
   "outputs": [],
   "source": [
    "class_names = [\"Camiseta/top\", \"Calça\", \"Suéter\", \"Vestido\", \"Casaco\",\n",
    "               \"Sandália\", \"Camisa\", \"Tênis\", \"Bolsa\", \"Bota\"]"
   ]
  },
  {
   "cell_type": "code",
   "execution_count": null,
   "id": "bf2bc945-d8bd-463e-a154-ac87e0cd2751",
   "metadata": {},
   "outputs": [],
   "source": [
    "# view dataset\n",
    "n_rows = 4\n",
    "n_cols = 10\n",
    "plt.figure(figsize=(n_cols * 1.2, n_rows* 1.2))\n",
    "for row in range(n_rows):\n",
    "    for col in range(n_cols):\n",
    "        index = n_cols * row + col\n",
    "        plt.subplot(n_rows,n_cols,index+1)\n",
    "        plt.imshow(X_train[index],cmap=\"binary\", interpolation=\"nearest\")\n",
    "        plt.axis('off')\n",
    "        plt.title(class_names[y_train[index]], fontsize=12)\n",
    "plt.subplots_adjust(wspace=0.2, hspace=0.5)\n",
    "plt.show()"
   ]
  },
  {
   "cell_type": "code",
   "execution_count": null,
   "id": "f2873b2b-2f1a-4c3d-adba-d63ce503b922",
   "metadata": {},
   "outputs": [],
   "source": [
    "# view test set\n",
    "plt.figure(figsize=(7.2,2.4))\n",
    "for index, image in enumerate(X_new):\n",
    "    plt.subplot(n_rows,n_cols,index+1)\n",
    "    plt.imshow(X_train[index],cmap=\"binary\", interpolation=\"nearest\")\n",
    "    plt.axis('off')\n",
    "    plt.title(class_names[y_test[index]], fontsize=12)\n",
    "plt.subplots_adjust(wspace=0.2, hspace=0.5)\n",
    "plt.show()"
   ]
  },
  {
   "cell_type": "markdown",
   "id": "c0a2674a-2521-4210-a945-d7da3daaaeaa",
   "metadata": {
    "jp-MarkdownHeadingCollapsed": true
   },
   "source": [
    "# Tarefa de regressão usando MLP"
   ]
  },
  {
   "cell_type": "code",
   "execution_count": null,
   "id": "1db769d6-45d2-494e-984b-de0ea6eaede1",
   "metadata": {},
   "outputs": [],
   "source": [
    "# load and prepare dataset"
   ]
  },
  {
   "cell_type": "code",
   "execution_count": null,
   "id": "ed763cbd-8317-477b-ae20-475756391d99",
   "metadata": {},
   "outputs": [],
   "source": [
    "# compile and train regression model"
   ]
  },
  {
   "cell_type": "code",
   "execution_count": null,
   "id": "f2476b64-a7d8-4088-9cfc-c76a1cc7c0c5",
   "metadata": {},
   "outputs": [],
   "source": [
    "# predict"
   ]
  }
 ],
 "metadata": {
  "kernelspec": {
   "display_name": "Python 3 (ipykernel)",
   "language": "python",
   "name": "python3"
  },
  "language_info": {
   "codemirror_mode": {
    "name": "ipython",
    "version": 3
   },
   "file_extension": ".py",
   "mimetype": "text/x-python",
   "name": "python",
   "nbconvert_exporter": "python",
   "pygments_lexer": "ipython3",
   "version": "3.11.6"
  }
 },
 "nbformat": 4,
 "nbformat_minor": 5
}
