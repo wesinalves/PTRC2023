{
 "cells": [
  {
   "cell_type": "markdown",
   "id": "bc501d98-dfcc-4ced-9df4-520e003b51c5",
   "metadata": {},
   "source": [
    "# Cluster the Olivetti Faces Dataset\n",
    "\n",
    "O clássico conjunto de dados Olivetti contém 400 imagens de rostos em escala de cixa de $64 \\times 64$. Cada imagem é achatada para um vetor 1D de tamanho 4.096. Quarenta pessoas diferentes foram fotografadas (dez de cada vez). A tarefa é treinar um modelo que possa predizer qual pessoa é representada em cada foto.\n",
    "1) Carregue o conjunto de dados usando e o divida em conjunto de treino,teste e validação.\n",
    "2) Como o conjunto é muito pequeno, utilize amostragem estratificada para garantir que haja o mesmo número de imagens por pessoa.\n",
    "3) Clusterize o conjunto usando o Kmeans e selecione o número de clusters de acordo com o coeficiente de silhueta.\n",
    "4) Treine um modelo de mistura guassiana com os mesmos dados. Empregue o modelo para gerar novos rostos usando o método sample() "
   ]
  }
 ],
 "metadata": {
  "kernelspec": {
   "display_name": "Python 3 (ipykernel)",
   "language": "python",
   "name": "python3"
  },
  "language_info": {
   "codemirror_mode": {
    "name": "ipython",
    "version": 3
   },
   "file_extension": ".py",
   "mimetype": "text/x-python",
   "name": "python",
   "nbconvert_exporter": "python",
   "pygments_lexer": "ipython3",
   "version": "3.11.6"
  }
 },
 "nbformat": 4,
 "nbformat_minor": 5
}
